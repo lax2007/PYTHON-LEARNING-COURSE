{
  "nbformat": 4,
  "nbformat_minor": 0,
  "metadata": {
    "colab": {
      "name": "03 -Intro_Py - String Methods.ipynb",
      "provenance": [],
      "collapsed_sections": []
    },
    "kernelspec": {
      "name": "python3",
      "display_name": "Python 3"
    }
  },
  "cells": [
    {
      "cell_type": "markdown",
      "metadata": {
        "id": "6Sr5UFNOLzmm"
      },
      "source": [
        "## Step 1: Open Google Chrome\n",
        "\n",
        "## Step 2: Open Google Colab\n",
        "\n",
        "## Step 3: Download the file from the meeting chat\n",
        "\n",
        "## Step 4: Upload the file in the colab"
      ]
    },
    {
      "cell_type": "markdown",
      "metadata": {
        "id": "4TybJcjbCe7N"
      },
      "source": [
        "#STRINGS"
      ]
    },
    {
      "cell_type": "markdown",
      "metadata": {
        "id": "ytuauUN5CaUn"
      },
      "source": [
        "###String Literals\n",
        "\n",
        "String literals in python are surrounded by either single quotation marks, or double quotation marks.\n",
        "\n",
        "'hello' is the same as \"hello\".\n",
        "\n",
        "You can display a string literal with the print() function:"
      ]
    },
    {
      "cell_type": "code",
      "metadata": {
        "id": "6Ltu6ojCCdZ6"
      },
      "source": [
        "print(\"Hello 123456789\")"
      ],
      "execution_count": null,
      "outputs": []
    },
    {
      "cell_type": "code",
      "metadata": {
        "id": "mdFVd_maO4Ss"
      },
      "source": [
        "print('hello 12345 958624563489*(%*^$%&#$^@$%@$%@#&^*%^&(%&*$^*%^(*^%&($%&*(%&(><\"<:\"LP{JFoebwgjobve')"
      ],
      "execution_count": null,
      "outputs": []
    },
    {
      "cell_type": "markdown",
      "metadata": {
        "id": "ZaY1Jp27Cr5A"
      },
      "source": [
        "###Assign String to a Variable"
      ]
    },
    {
      "cell_type": "code",
      "metadata": {
        "id": "mAmM1dRfCow1"
      },
      "source": [
        "a = \"Spiderman.\"\n",
        "print(a)"
      ],
      "execution_count": null,
      "outputs": []
    },
    {
      "cell_type": "code",
      "metadata": {
        "id": "8odhUVYvPLUV"
      },
      "source": [
        "print('Hey I am ' + a + '!')"
      ],
      "execution_count": null,
      "outputs": []
    },
    {
      "cell_type": "code",
      "metadata": {
        "id": "0DFJVJepM4Ao"
      },
      "source": [
        "print('Tom Holland is the new ' + a)"
      ],
      "execution_count": null,
      "outputs": []
    },
    {
      "cell_type": "markdown",
      "metadata": {
        "id": "GNJxqbdQCx5z"
      },
      "source": [
        "###Multiline Strings"
      ]
    },
    {
      "cell_type": "code",
      "metadata": {
        "id": "o5blFqaICvUn"
      },
      "source": [
        "a = \"\"\"Lorem ipsum dolor sit amet,\n",
        "consectetur adipiscing elit,\n",
        "sed do eiusmod tempor incididunt\n",
        "ut labore et dolore magna aliqua.\"\"\"\n",
        "print(a)"
      ],
      "execution_count": null,
      "outputs": []
    },
    {
      "cell_type": "code",
      "metadata": {
        "id": "oGx3wYMebQN2"
      },
      "source": [
        "print(\"\"\"nsigberuibv\"rji'vne\"vniubvei\"\"\")"
      ],
      "execution_count": null,
      "outputs": []
    },
    {
      "cell_type": "code",
      "metadata": {
        "id": "WlZ8CcpePgPH"
      },
      "source": [
        "print(\"\"\" hgrui'ghe'ruo'  \"vnoerbh\"fbdji'vbrjobvjo\"\"\")"
      ],
      "execution_count": null,
      "outputs": []
    },
    {
      "cell_type": "code",
      "metadata": {
        "id": "Z9Pjn1JuG9qd"
      },
      "source": [
        "print(\"\"\"I said,\"\"\"at his place.\"\"\")"
      ],
      "execution_count": null,
      "outputs": []
    },
    {
      "cell_type": "code",
      "metadata": {
        "id": "DjIFMnRFOdl1"
      },
      "source": [
        "print(\"This is the \\\"21st Century\\\" from 2000-2100.\")"
      ],
      "execution_count": null,
      "outputs": []
    },
    {
      "cell_type": "code",
      "metadata": {
        "id": "dWNO_z9tbsF9"
      },
      "source": [
        "print(\"He said, \\\"he will be late.\\\"\")"
      ],
      "execution_count": null,
      "outputs": []
    },
    {
      "cell_type": "code",
      "metadata": {
        "id": "_0Jmnxh1C2P2"
      },
      "source": [
        "a = 'Lorem ipsum dolor si\\name'"
      ],
      "execution_count": null,
      "outputs": []
    },
    {
      "cell_type": "code",
      "metadata": {
        "id": "KubCCyjXQKrh"
      },
      "source": [
        "print(a)"
      ],
      "execution_count": null,
      "outputs": []
    },
    {
      "cell_type": "markdown",
      "metadata": {
        "id": "ojEQtCHTC6Fg"
      },
      "source": [
        "###Strings are Arrays\n",
        "\n",
        "Like many other popular programming languages, strings in Python are arrays of bytes representing unicode characters.\n",
        "\n",
        "However, Python does not have a character data type, a single character is simply a string with a length of 1.\n",
        "\n",
        "Square brackets can be used to access elements of the string."
      ]
    },
    {
      "cell_type": "code",
      "metadata": {
        "id": "jzfUe59KC4-p"
      },
      "source": [
        "a = \"Hey! I am Python.\""
      ],
      "execution_count": null,
      "outputs": []
    },
    {
      "cell_type": "code",
      "metadata": {
        "id": "zPMHpmk7QR4y"
      },
      "source": [
        "print(a)"
      ],
      "execution_count": null,
      "outputs": []
    },
    {
      "cell_type": "code",
      "metadata": {
        "id": "RttoH8MjRwk7"
      },
      "source": [
        "len(a)"
      ],
      "execution_count": null,
      "outputs": []
    },
    {
      "cell_type": "code",
      "metadata": {
        "id": "mJb_iwYaQTqx"
      },
      "source": [
        "a[2]"
      ],
      "execution_count": null,
      "outputs": []
    },
    {
      "cell_type": "code",
      "metadata": {
        "id": "KNdwZbliR8cb"
      },
      "source": [
        "a[13]"
      ],
      "execution_count": null,
      "outputs": []
    },
    {
      "cell_type": "code",
      "metadata": {
        "id": "rmIBajIYC_b1"
      },
      "source": [
        "print(a)"
      ],
      "execution_count": null,
      "outputs": []
    },
    {
      "cell_type": "code",
      "metadata": {
        "id": "MxsljTgXQj4d"
      },
      "source": [
        "a[0:8]"
      ],
      "execution_count": null,
      "outputs": []
    },
    {
      "cell_type": "code",
      "metadata": {
        "id": "Ccmq1MVmSuzr"
      },
      "source": [
        "a[:6]"
      ],
      "execution_count": null,
      "outputs": []
    },
    {
      "cell_type": "code",
      "metadata": {
        "id": "GPCj_0dlS1-J"
      },
      "source": [
        "a[10:16]"
      ],
      "execution_count": null,
      "outputs": []
    },
    {
      "cell_type": "code",
      "metadata": {
        "id": "kKVZ-imeTWEa"
      },
      "source": [
        "a[20:21]"
      ],
      "execution_count": null,
      "outputs": []
    },
    {
      "cell_type": "code",
      "metadata": {
        "id": "i4f-0BdoKAcr"
      },
      "source": [
        "x = '12346792356247965983'"
      ],
      "execution_count": null,
      "outputs": []
    },
    {
      "cell_type": "code",
      "metadata": {
        "id": "tPqcfHGLKCYQ"
      },
      "source": [
        "len(x)"
      ],
      "execution_count": null,
      "outputs": []
    },
    {
      "cell_type": "code",
      "metadata": {
        "id": "ysyuyjAmKGRO"
      },
      "source": [
        "x[2:8]"
      ],
      "execution_count": null,
      "outputs": []
    },
    {
      "cell_type": "markdown",
      "metadata": {
        "id": "pHbvXsB5DBXs"
      },
      "source": [
        "####Slicing"
      ]
    },
    {
      "cell_type": "code",
      "metadata": {
        "id": "hIFgv77KDCsl"
      },
      "source": [
        "b = \"Hello, World!\""
      ],
      "execution_count": null,
      "outputs": []
    },
    {
      "cell_type": "code",
      "metadata": {
        "id": "bL_CvGSpQpxa"
      },
      "source": [
        "print(b[4:11])"
      ],
      "execution_count": null,
      "outputs": []
    },
    {
      "cell_type": "markdown",
      "metadata": {
        "id": "V3hoTfkvDGxH"
      },
      "source": [
        "####Negative Indexing\n",
        "Use negative indexes to start the slice from the end of the string: "
      ]
    },
    {
      "cell_type": "code",
      "metadata": {
        "id": "MJm9XSnVDE_6"
      },
      "source": [
        "b = \"Hello,World\"\n",
        "print(b[-5:-2])"
      ],
      "execution_count": null,
      "outputs": []
    },
    {
      "cell_type": "code",
      "metadata": {
        "id": "DusPbOOBT_9r"
      },
      "source": [
        "b[-7:-9]"
      ],
      "execution_count": null,
      "outputs": []
    },
    {
      "cell_type": "code",
      "metadata": {
        "id": "2SDQA4prUaL3"
      },
      "source": [
        "b[:-5]"
      ],
      "execution_count": null,
      "outputs": []
    },
    {
      "cell_type": "code",
      "metadata": {
        "id": "Z9owPZ18LGS5"
      },
      "source": [
        "b[-2:]"
      ],
      "execution_count": null,
      "outputs": []
    },
    {
      "cell_type": "code",
      "metadata": {
        "id": "mtEo4ygyUvWq"
      },
      "source": [
        "b[4:]"
      ],
      "execution_count": null,
      "outputs": []
    },
    {
      "cell_type": "code",
      "metadata": {
        "id": "zIPtxd5RLgvj"
      },
      "source": [
        "b[:8]"
      ],
      "execution_count": null,
      "outputs": []
    },
    {
      "cell_type": "code",
      "metadata": {
        "id": "kqerCKquS3iX"
      },
      "source": [
        "b[2:-5]"
      ],
      "execution_count": null,
      "outputs": []
    },
    {
      "cell_type": "markdown",
      "metadata": {
        "id": "z6xf5HdrDMpb"
      },
      "source": [
        "####String Length\n",
        "\n",
        "To get the length of a string, use the len() function."
      ]
    },
    {
      "cell_type": "code",
      "metadata": {
        "id": "cATq4iCXDPeL"
      },
      "source": [
        "a = \"Hello, World! I am working on python.\"\n",
        "print(len(a))"
      ],
      "execution_count": null,
      "outputs": []
    },
    {
      "cell_type": "markdown",
      "metadata": {
        "id": "P5d63DJDDSk4"
      },
      "source": [
        "####String Methods\n",
        "\n",
        "Python has a set of built-in methods that you can use on strings."
      ]
    },
    {
      "cell_type": "code",
      "metadata": {
        "id": "qwtt0Q9ZDRXN"
      },
      "source": [
        "#The strip() method removes any whitespace from the beginning or the end:\n",
        "a = \"     Hello, World!    \"\n",
        "print(a.strip())"
      ],
      "execution_count": null,
      "outputs": []
    },
    {
      "cell_type": "code",
      "metadata": {
        "id": "Gozuk4K-U4CJ"
      },
      "source": [
        ""
      ],
      "execution_count": null,
      "outputs": []
    },
    {
      "cell_type": "code",
      "metadata": {
        "id": "wKW8ofjbDazp"
      },
      "source": [
        "#The lower() method returns the string in lower case:\n",
        "a = \"HeLLo, WORLDVIHFGVEIBVUIB!\"\n",
        "print(a.lower())\n",
        "print('jivneri24793569348768935vberuibv'.upper())"
      ],
      "execution_count": null,
      "outputs": []
    },
    {
      "cell_type": "code",
      "metadata": {
        "id": "YHDxCakODgu4"
      },
      "source": [
        "#The upper() method returns the string in upper case:\n",
        "a = \"Hello, World!\"\n",
        "print(a.upper())"
      ],
      "execution_count": null,
      "outputs": []
    },
    {
      "cell_type": "code",
      "metadata": {
        "id": "Ad2TCjbRDhnn"
      },
      "source": [
        "#The replace() method replaces a string with another string:\n",
        "a = \"Hello, World!\"\n",
        "print(a.replace(\"W\", \"jbvehkb\"))"
      ],
      "execution_count": null,
      "outputs": []
    },
    {
      "cell_type": "code",
      "metadata": {
        "id": "-eQKl37TDkSn"
      },
      "source": [
        "#The split() method splits the string into substrings if it finds instances of the separator:\n",
        "a = \"Hello; Wsjkvboeribvorld!\"\n",
        "print(a.split(\"o\"))"
      ],
      "execution_count": null,
      "outputs": []
    },
    {
      "cell_type": "code",
      "metadata": {
        "id": "ZFV0KJDEDmur"
      },
      "source": [
        ""
      ],
      "execution_count": null,
      "outputs": []
    },
    {
      "cell_type": "markdown",
      "metadata": {
        "id": "S_J5giRWDnts"
      },
      "source": [
        "###Check String\n",
        "\n",
        "To check if a certain phrase or character is present in a string, we can use the keywords in or not in."
      ]
    },
    {
      "cell_type": "code",
      "metadata": {
        "id": "Fm7SmtHeDqyz"
      },
      "source": [
        "#Check if the phrase \"ain\" is present in the following text:\n",
        "txt = \"The rain in Spain stays mainly in the plain\"\n",
        "\"ain\" in txt"
      ],
      "execution_count": null,
      "outputs": []
    },
    {
      "cell_type": "code",
      "metadata": {
        "id": "dhtLbd8dTc4p"
      },
      "source": [
        "a = 'ghweuiobverjibviuerbvuio'\n",
        "'gh' in a"
      ],
      "execution_count": null,
      "outputs": []
    },
    {
      "cell_type": "code",
      "metadata": {
        "id": "O53a7JPqDvl7"
      },
      "source": [
        "#Example\n",
        "\n",
        "#Check if the phrase \"ain\" is NOT present in the following text:\n",
        "txt = \"The rain in Spain stays mainly in the plain\"\n",
        "\"ain\" not in txt"
      ],
      "execution_count": null,
      "outputs": []
    },
    {
      "cell_type": "code",
      "metadata": {
        "id": "XYLztDP4D5kJ"
      },
      "source": [
        ""
      ],
      "execution_count": null,
      "outputs": []
    },
    {
      "cell_type": "markdown",
      "metadata": {
        "id": "M_U_9DI8D9yr"
      },
      "source": [
        "###String Concatenation\n",
        "\n",
        "To concatenate, or combine, two strings you can use the + operator."
      ]
    },
    {
      "cell_type": "code",
      "metadata": {
        "id": "UpgUXWkzEC5h"
      },
      "source": [
        "#Example\n",
        "\n",
        "#Merge variable a with variable b into variable c:\n",
        "a = \"Hello\"\n",
        "b = \"World\"\n",
        "c = a + b\n",
        "print(c)"
      ],
      "execution_count": null,
      "outputs": []
    },
    {
      "cell_type": "code",
      "metadata": {
        "id": "6eBYPWvgEFl0"
      },
      "source": [
        "#Example\n",
        "\n",
        "#To add a space between them, add a \" \":\n",
        "a = \"Hello\"\n",
        "b = \"World\"\n",
        "c = a + \" \" + b\n",
        "print(c)"
      ],
      "execution_count": null,
      "outputs": []
    },
    {
      "cell_type": "code",
      "metadata": {
        "id": "zIKAlgjwEJGl"
      },
      "source": [
        ""
      ],
      "execution_count": null,
      "outputs": []
    },
    {
      "cell_type": "markdown",
      "metadata": {
        "id": "3l2CM9CGEJnh"
      },
      "source": [
        "###String Format\n",
        "\n",
        "As we learned in the Python Variables chapter, we cannot combine strings and numbers like this:"
      ]
    },
    {
      "cell_type": "code",
      "metadata": {
        "id": "U2udzw5kEMaa",
        "colab": {
          "base_uri": "https://localhost:8080/",
          "height": 197
        },
        "outputId": "25856972-65e1-44dd-9d3c-a6ee9c123a95"
      },
      "source": [
        "age = 32\n",
        "txt = \"I am\" + age\n",
        "print(txt)"
      ],
      "execution_count": null,
      "outputs": [
        {
          "output_type": "error",
          "ename": "TypeError",
          "evalue": "ignored",
          "traceback": [
            "\u001b[0;31m---------------------------------------------------------------------------\u001b[0m",
            "\u001b[0;31mTypeError\u001b[0m                                 Traceback (most recent call last)",
            "\u001b[0;32m<ipython-input-3-6cea64ae1864>\u001b[0m in \u001b[0;36m<module>\u001b[0;34m()\u001b[0m\n\u001b[1;32m      1\u001b[0m \u001b[0mage\u001b[0m \u001b[0;34m=\u001b[0m \u001b[0;36m32\u001b[0m\u001b[0;34m\u001b[0m\u001b[0;34m\u001b[0m\u001b[0m\n\u001b[0;32m----> 2\u001b[0;31m \u001b[0mtxt\u001b[0m \u001b[0;34m=\u001b[0m \u001b[0;34m\"I am\"\u001b[0m \u001b[0;34m+\u001b[0m \u001b[0mage\u001b[0m\u001b[0;34m\u001b[0m\u001b[0;34m\u001b[0m\u001b[0m\n\u001b[0m\u001b[1;32m      3\u001b[0m \u001b[0mprint\u001b[0m\u001b[0;34m(\u001b[0m\u001b[0mtxt\u001b[0m\u001b[0;34m)\u001b[0m\u001b[0;34m\u001b[0m\u001b[0;34m\u001b[0m\u001b[0m\n",
            "\u001b[0;31mTypeError\u001b[0m: must be str, not int"
          ]
        }
      ]
    },
    {
      "cell_type": "code",
      "metadata": {
        "id": "4RTjnKNsQqre"
      },
      "source": [
        "x = '36'\n",
        "y = '12'"
      ],
      "execution_count": null,
      "outputs": []
    },
    {
      "cell_type": "code",
      "metadata": {
        "id": "8xwNXWEQQ1kW"
      },
      "source": [
        "x + y"
      ],
      "execution_count": null,
      "outputs": []
    },
    {
      "cell_type": "code",
      "metadata": {
        "id": "yCOlBqUCQ2mh"
      },
      "source": [
        "x / y"
      ],
      "execution_count": null,
      "outputs": []
    },
    {
      "cell_type": "code",
      "metadata": {
        "id": "0z-BvsKhQtVv"
      },
      "source": [
        "x[2:7]"
      ],
      "execution_count": null,
      "outputs": []
    },
    {
      "cell_type": "markdown",
      "metadata": {
        "id": "YZ-50yJaFday"
      },
      "source": [
        "The format() method takes the passed arguments, formats them, and places them in the string where the placeholders {} are:"
      ]
    },
    {
      "cell_type": "code",
      "metadata": {
        "id": "WnZEj_WHFecQ",
        "colab": {
          "base_uri": "https://localhost:8080/"
        },
        "outputId": "e032dec5-abf9-4235-d294-e8252867e8a4"
      },
      "source": [
        "#Example\n",
        "#Use the format() method to insert numbers into strings:\n",
        "age = 30\n",
        "birth_year = 1992\n",
        "\n",
        "txt = \"I am {} years old.\"\n",
        "print(txt.format(age))\n",
        "print(\"I was {} born in year.\".format(birth_year))\n",
        "print(\"I was [] born in year.\".format(birth_year))\n",
        "print(\"I was () born in year.\".format(birth_year))"
      ],
      "execution_count": null,
      "outputs": [
        {
          "output_type": "stream",
          "text": [
            "I am 30 years old.\n",
            "I was 1992 born in year.\n",
            "I was [] born in year.\n",
            "I was () born in year.\n"
          ],
          "name": "stdout"
        }
      ]
    },
    {
      "cell_type": "code",
      "metadata": {
        "id": "NKdaMcaUFhWw",
        "colab": {
          "base_uri": "https://localhost:8080/"
        },
        "outputId": "b1cbd607-97d7-402f-8851-c8e3e3c12cb9"
      },
      "source": [
        "#The format() method takes unlimited number of arguments, and are placed into the respective placeholders:\n",
        "#Example\n",
        "quantity = 3\n",
        "itemno = 567\n",
        "price = 49.95\n",
        "myorder = \"I want {} pieces of item {} for {} dollars.\"\n",
        "print(myorder.format(quantity, itemno, price))"
      ],
      "execution_count": null,
      "outputs": [
        {
          "output_type": "stream",
          "text": [
            "I want 3 pieces of item 567 for 49.95 dollars.\n"
          ],
          "name": "stdout"
        }
      ]
    },
    {
      "cell_type": "code",
      "metadata": {
        "id": "uAcwTxKiFkfh",
        "colab": {
          "base_uri": "https://localhost:8080/"
        },
        "outputId": "ef9eb67d-5d96-4883-e3b5-dffcbf5ef75d"
      },
      "source": [
        "#You can use index numbers {0} to be sure the arguments are placed in the correct placeholders:\n",
        "#Example\n",
        "quantity = 3\n",
        "itemno = 567\n",
        "price = 49.95\n",
        "myorder = \"I want to pay {1} dollars for {2} pieces of item {0}.\"\n",
        "\n",
        "myorder = \"I want to pay {1} dollars for {1} pieces of item {1}.\"\n",
        "print(myorder.format(quantity, itemno, price))"
      ],
      "execution_count": null,
      "outputs": [
        {
          "output_type": "stream",
          "text": [
            "I want to pay 567 dollars for 567 pieces of item 567.\n"
          ],
          "name": "stdout"
        }
      ]
    },
    {
      "cell_type": "code",
      "metadata": {
        "id": "m6Hkx2tJErC_"
      },
      "source": [
        "age = 36\n",
        "txt = \"My name is John, I am \" + age\n",
        "print(txt)"
      ],
      "execution_count": null,
      "outputs": []
    },
    {
      "cell_type": "code",
      "metadata": {
        "id": "zSwQGIbXEvab"
      },
      "source": [
        "age = 36\n",
        "txt = \"My name is John, and I am {}\"\n",
        "print(txt.format(age))"
      ],
      "execution_count": null,
      "outputs": []
    },
    {
      "cell_type": "code",
      "metadata": {
        "id": "rIpiOJqWEx-Z"
      },
      "source": [
        "quantity = 3\n",
        "itemno = 567\n",
        "price = 49.95\n",
        "myorder = \"I want {} pieces of item {} for {} dollars.\"\n",
        "print(myorder.format(quantity, itemno, price))"
      ],
      "execution_count": null,
      "outputs": []
    },
    {
      "cell_type": "code",
      "metadata": {
        "id": "HJyaIefaE0cE"
      },
      "source": [
        "quantity = 3\n",
        "itemno = 567\n",
        "price = 49.95\n",
        "myorder = \"I want to pay {2} dollars for {0} pieces of item {1}.\"\n",
        "print(myorder.format(quantity, itemno, price))"
      ],
      "execution_count": null,
      "outputs": []
    },
    {
      "cell_type": "code",
      "metadata": {
        "id": "nrFiqqEbE36d"
      },
      "source": [
        "txt = \"We are the so-called \"Vikings\" from the north.\""
      ],
      "execution_count": null,
      "outputs": []
    },
    {
      "cell_type": "code",
      "metadata": {
        "id": "Q4V8CBhLFAxC"
      },
      "source": [
        "txt = \"We are the so-called \\\"Vikings\\\" from the north.\""
      ],
      "execution_count": null,
      "outputs": []
    },
    {
      "cell_type": "code",
      "metadata": {
        "id": "mhrYflKWFC_d"
      },
      "source": [
        ""
      ],
      "execution_count": null,
      "outputs": []
    },
    {
      "cell_type": "markdown",
      "metadata": {
        "id": "oUjzU02BFGGz"
      },
      "source": [
        "![String functions.png](data:image/png;base64,iVBORw0KGgoAAAANSUhEUgAAAX4AAAGhCAIAAADp0EhRAAAAAXNSR0IArs4c6QAAAARnQU1BAACxjwv8YQUAAAAJcEhZcwAADsMAAA7DAcdvqGQAABfJSURBVHhe7d3NcSO7koZhWqUIeaOVXNFSjmit1ZgwEW2Aoo1oC86tBKoKmfgjKQJM/rzP4lwWgEJBqMTXbPVEzOE/ALg6ogeAA6IHgAOiB4ADogeAA6IHgAOiB4ADogeAA6IHgINe9Pw/AMxxJHrWTwAwFNEDwAHRA8AB0QPAAdEDwAHRA8AB0QPAAdEDwAHRA8AB0QPAAdEDwAHRA8AB0QPAAdEDwMGtR8/3+yF4/14bgBtDjf7KtOj5+XyNL2Tz+vmzdp2D14oTFRUX/a7uzkGN/sqU6NneRXrrseUX74bXihPt0bPVSsqiudVja3R76vzIu3Pjo6eogNXS/osKIHpwokrhbdUzt3yInl8ZHj0nve29SqLsLe1TLD2vZY71b8azOjV6uvWjai+K3VvzNni7DvOqi2xuoR8NZXT07HvfToT1Ta0Dthu2N2RealFO63W1AvDc8lpZFPXRrZ+ympaWOHTrqt5o79uWsQ1Fw7ToSe/PKt6MaSh6zWvdek1tZC14VkXpFcXRr5+i9pRt3NZnprbP6U0D5erfeop60K+1qJ76Oy6l2fCs9uIxdGUcqZ+yey9iVaPm2twXH0X0nOjqv+ux70mo13pi9DSmxlOzxbPXYaXS2vVTiS8zG9EzzvDoySogWdqlpXgzpqEoDtPQmhooq2O/3mvtrPoxdWkuFkTP5cZHj3rDaffj24nvZn1Ta+c2OKuXrDfv3q4XoSld4lmVtbG3nFQ/S13quLBlauPFXvb60DQjeoLtBez0a1U1IXSXvfOEf1wXvGXUYsUU09bcqp+iYpszJebGfbR5gp4DyrToAYA2ogeAA6IHgAOiB4ADogeAA6IHgAOiB4ADogeAA6IHgAOiB4ADogeAA6IHgAOiB4CDXvT8BYA5jnzr+QcAExA9ABwQPQAcED0AHBA9ABwQPQAcED0AHBA9ABwQPQAcED0AHBA9ABwQPQAcED0AHIyOnq+3w+Hta73Y/fl4ORxePv6sl8BdkfqlfAcb/q2nnj31VmAsqTNjLbrQ/vsCvCR67JIIsN34v3DJaypeMtGD2cJXa1tlS9kNOeu/jJ64In1jyCHPJd2QCb/rqW3K0nbf+4RbF875pD/efnXOw4LKuyR9BpyFXy3ppsz4NfP97wruTzd6UknG79/h20eQF2rqWfpe1ruyijZjWoXeXI/KnriY0CqyS/ugZofq0s3Nhd2KGdFD9sBBOOv1055FTxokV6lSwwyqcPdeVdBhTHqGnUA7pUc+qfXaSzNB9lizpOjkhd2KKdETfvDb/rnxkOTAKebkxgt7vM15LU7r3tC6fVFEwCpLAi09J5tNXxbzZg15/8kLuxmTokd24qZ/bjy8cPjXKkznsH3ay7MqnaFl74pz5uxdq/3mQuppLybvWtiWbLVnLOxWzIqeytYBVyZFGI5fOqhZXarL7DAvytvLMU0hDGonYJ+1t5i8a2FbspWcsbBbMS16KnsHzPP1UZy8dPrTyWyf9jIrpDPcZW8/8YiH+cqxeob2YtQjV1lD3n/Gwm7EvOgJm2PeJDCPnD1zkMPRXxvSQe2c9uz4xvvDtTrnetZgaWgdeTXDKiwye8Q2V/4DmNWYkYFd7HkLuwkToydshtktYKZ4eJNUfFKK8RzKGFWU2WU8v9HLx8d2utPtgR616B9wu6h8rJoq/pO/OTD63vIk7b1711kL8zYzevI3BtyVIgouwmmwpkYPu437Fb5CjEue9VvKyAnv29zoAe6J/gvOlL+vpAfwJzLRA8AB0QPAAdEDwAHRA8AB0QPAAdEDwAHRA8AB0QPAAdEDwAHRA8BBL3r+AsAcR771rJ8AYCiiB4ADogeAA6IHgAOiB4ADogeAA6IHgAOiB4ADogeAA6IHgAOiB4ADogeAA6IHgAOiB4CD0dHz/X44vH+vF5tqI3DTzq/an8/Xw+vnz3p1pqc7JMO/9ZA98CEH3/p1DAREz1zj/8Il+19sYbURGCg/+CGKLkgfomeuCb/rqb6Ai94KcFxRYnKYiZ6bNePXzGQPHOQVZpNHepOiEmVwEiIgy4J1gq3F3hDnUyvoPq527/q41FUs8dHMiJ6iCIJqIzCKPe2Bqreld8+RMDKlSrwxXX+/h/t09IRESLPJZWVumWhtbj+ucW98hHmgGvWIpkRP2Lly46qNwBjq4K/Cad7PvGKGtk65tIebi2lsliTlCiLd3ro3PS5oDnsck6JHNrJ8CdVGYIjKwbcHOETI7sQsCDcV3Woq1WdXUH9c6971cetFcfmAZkVPfesefz/hphI9oeBCm3xIvXpoN3o2+bxRuDUKE6Rp24/b5PfmZyO7fEDToqe+d4+/ofBSOeDhfEu9yQdVd2ao1GQeDCLVqnyqDonMU8Kw3uOs/d78aDz+SZkXPfn+R9VG4HLFAQ/Hem3RJzm0q6F6nKj8mjlc7GOWG9Tw0Beu0wraj2vdax9XXD6gidET9rzYvWojcLF4xA1daHKWo9fP7z0jNqlXhPvyw78OkabsUSpW9s/NxzXuzR+XP/3xzIwe8yp21UYAz2Vq9JA9AOrmRg8AVBE9ABwQPQAcED0AHBA9ABwQPQAcED0AHBA9ABwQPQAcED0AHBA9ABz0oucvAMxx5FvPPwCYgOgB4IDoAeCA6AHggOgB4IDoAeCA6AHggOgB4IDoAeCA6AHggOgB4IDoAeCA6AHgYHT0fL0dDm9f6wUA1A3/1kP2wMefj5eD0NUnbS8ff9ar0aTWy9mllSNw3Pi/cMnbZuNxdSFmXpb4UWngET04zYTf9cx93UBdrLuv5b/pjz6i53bN+DVz+b7j38LCN9GA94XhtrLTgVCUYqpBVYV2lFydFl716El3HCv76mKexozoab3w7XXW3xhwkb3qVHaYSlTtQpWhrsgwyhZruseqF3J6pvS3yr69mGcxJXrCTuqNlI1N25ztOjBCOvLpIKu2rAgX2Q2xTxrf3vbL4iZtf4yRprU3S/t+2VvMk5gUPbK1aiOzjS72HbiYPrzbMVdtoamgOsNH+bDct1Wour9CRpW96Z522XcX8yRmRY/d9vY7AAaxMSE1Fn/pvLb1U2TtXf4njllLdPmf9j3rM/Lu9KCsztVlfzHPYVr0mH1vvwNgkOw4y2X4x/atTaqufdxl+NvHljxrjS5/8eoFRH3GU6LnyGKewrzoiS8z7nTnHQBjZNETy0z/NSaEkS68pSHdEEen6zi6W6f1/Ejr6JV9fzHPYGL0hN2Ne9t7B8AQ6chv4vE2bbFpp/vyIAlDu2Uqd+TevtI6jpV9ZzFPYGb0VIoBAMTU6CF7ANTNjR4AqCJ6ADggegA4IHoAOCB6ADggegA4IHoAOCB6ADggegA4IHoAOCB6ADjoRc9fAJjjyLee9RMADEX0AHBA9ABwQPQAcED0AHBA9ABwQPQAcED0AHBA9ABwQPQAcED0AHBA9ABwQPQAcED0AHAwOnq+3w+H9+/1AgDqhn/rIXvg6ufz9aC9fv6sPReRur5SYYdHaY95nsb/hUtePdkDDzF2dPWVLbdPokcFZkii0wJUftpBUTvfhN/13NXPj8fR+mLy8/l5z9FTaWh59uipbkBs+17+e3KEA2eQCutXVhixs0PL+sxa/i9chlt68yxCAq5eX81RMF35fbvj0VOfR7fGDJYWlcX2Mv+RY2+apL3AMWZEz/pDmYXH1zX7p8HzkjPTr6+lBveDF+pRncqyPrMWuVwvOvOESzWLWlQ2srPcvMve2ZtH+vSd0pmGZpdhIjVcelN/vojxpkRPWLhdd74pwFhnnpWsIMv6PDogMu3FGlKDfFIp0J4wn0XGqcvuPPmc2WB72R8cHmseNNqk6JGfQ/9Yxc8JjCUn52iFyaBEDS/rM2uxl/V5ykn2RUlXyQ7e2MntoP48+QJkpl9GT3453qzoyVdevhVgpHAoeyUmFZkGZAVZ1mdzQHuechIZG1rKrrb9pvWzvrE/T94rdz9f9Bz5OYHRpOJqpyX+C5dUoOrMCrKsz9aAzjzy2S5AlhR706ej7NAwabruzqMXI2SwWo+9PGvwBPOiJ/xo+9rznxMYT46LPTDx4IYWfZZisyrIsj6zlnTZm0f60pXpjRdqbUuDml+xkyzMrd15slvD2G2o9OkbpVM/Rv9ci+xyvInRE362bfH5zwnMEY6boqouHj4R/1E5O6S2PrMWfdmZxzz+9fNzGZlNotgH7mT6vCs+cmvtzLOvLZ48NTL+w/lzRE/xwwHPZfr5vWNTo4fswTMLXzlInoa50QM8l/3vOwF/7HYQPQAcED0AHBA9ABwQPQAcED0AHBA9ABwQPQAcED0AHBA9ABwQPQAc9KLnLwDMceRbzz8AmIDoAeCA6AHggOgB4IDoAeCA6AHggOgB4IDoAeCA6AHggOgB4IDoAeCA6AHggOgB4GB09Hy9HQ5vX+sFcLsoVV/Dv/XwQnF9UnUNzWKkUn2N/wvXn4+XyhuV1pePP+sVMIskykmVRvT4mvC7nmrKED24DqLnTsz4NXMZM/KWE9435rHRI7WYmKqM0aNKk7q8qhnRU/uKw7ceXEcRPXuihBhK+RJDZ7sOnVToFU2JnvBa7WskenAdNnoMW4QyUH/R6dyICSZFT5E9RA+uo0gQaUja0ZN9KcJks6Inf7FED67DRE+Inf2q/62H6LmuadGTvVmiB9eho0eqrvnnXx49+TXmmhc92XvXFQFMYwpNx0n4VtOMHurz2iZGT/5njrzcgD9aME+WIXvVLY1fxbcehdy5spnRk33BBYDN1OghewDUzY0eAKgiegA4IHoAOCB6ADggegA4IHoAOCB6ADggegA4IHoAOCB6ADggegA46EXPXwCY48i3nvUTAAxF9ABwQPQAcED0AHBA9ABwQPQAcED0AHBA9ABwQPQAcED0AHBA9ABwQPQAcED0AHBA9ABwMDp6vt8Ph/fv9SJpNAM3i5qda/i3nvoL4zVitp/P14P1+vmz9v0GNTvX+L9wSQUUb4zXiNmk8HTYhCi6IH2o2bkm/K4nLwHBa8RsRd1J0RE9N2vGr5kr2RNfo/x3xTvFYHnZ2eQJ34F2RSKp0lyE6syiZ51ga7E3rPPFW9Sj1HPOX0Cg24ub7tqM6KlkT9zAbUPDW3isfYQ7e7YDe/L38xxGptMdb9SnPdwXc2RrMrPJZW3uWOZ7T5h4uzp/Afmw7Kn3bkr0hF0ymyS7lvbw4XYRN0AOqq2pkAS67DZmaKsW95otpskiIdlv2bTmPm8Bm/InvGeToke2TW9SvovNlwf8UuVg2jKTIky2oc1SjDUbbiq61VS6Ly/zixYQ2gtEz1H2LeTvpPm+gV+SmsoPptRdaAunfu/VQ5ulqIOifuBVOMQJ8jJXk5+/AD3mEU2LHvsa8ndSvCPgQpWjup9q+aDqzQyVWqwd8VSj8qmTAvtTyrLeG367gPZT79686DG7bd/Jg+8pXJjjLEIkrC26AEO7GqrHicqvmcPFPma5QQ1X5WxusfP+YgHruDRh/uD7NjF6ws6t+xbeXPI4+4ebEQ+qoU6tKsHXz+9lqK1BW6DhPpsj+xBpyh61T5WVuX3G2QsIWo+6fzOjJ2zbA+0V0JenFTqmRg/Zg6dC9JxhbvQAz4ToOQPRA8AB0QPAAdEDwAHRA8AB0QPAAdEDwAHRA8AB0QPAAdEDwAHRA8BBL3r+AsAcR771/AOACYgeAA6IHgAOiB4ADogeAA6IHgAOiB4ADogeAA6IHgAOiB4ADogeAA6IHgAOiB4ADkZHz9fb4fD2tV5ofz5e1v+30dVuACeQA/by8We9umfDv/XUs+dxNgw3S4qscP2qm7sMoqdNvt7k2VNrA8aq/6l3dXOXQfR0SM5km3MjRYGHRvTclRm/Zs6yJ/2WRzzGtuEG9c+89G6yUbFgv2KdLgUaj/d6HYSqVTP0ouX0ZWRnod2lexaPcYZmRE/5vaf/NoARsgMqtqKTrr0iw5+FuhzjH46pYuNE+XVqMLMV2svIHqynObmr/+x7MiV6wgbp/ZH90u8aGK9ZZXJ4zXHNGvL+4nhnM2c5kWkuo+hIzz29Sy7N2u7WpOiRHVIbVOwsMFyzysoO23Ju9LSfJFqdIbAK4TlHurpru1uzose+gO6rAoZoVlnZYVuuFz2N0Dijq1jb3ZoWPeYNdF8VMESzyoqTnTUcPd75zN16bnYW0ybtLlmbnq4zyZ2ZFz1h09Y9674qYIhOlZkDm5/ma0VPfLDuWxrW53S69GriMLO2uzUxesI+xc3svipgiH6VSe8mGyWFqo+zPuxBPnP3Sf1lxPDY6cc0u9LSXz4+8rXdrZnRU7xSAIimRg/ZA6BubvQAQBXRA8AB0QPAAdEDwAHRA8AB0QPAAdEDwAHRA8AB0QPAAdEDwAHRA8BBL3r+AsAcR771rJ8AYCiiB4ADogeAA6IHgAOiB4ADogeAA6IHgAOiB4ADogeAA6IHgAOiB4ADogeAA6IHgAOiB4CD0dHz/X44vH+vF8DD+fl8Pbx+/qxXlxo7210Z/q2H7IErKcBk/LEmegYZ/xcu2UyyBw6k9GzahBw65WifHgFEzyATftfzxLsJRyF4ysKT9DlejkTP1c34NXNjO/U34fJr0SW9QEyeWm3k2aNrab2j0hSm26n7W2GRP8as6ITZ5H61/OzSrrH2/LszI3pqb8e8GPVOokt6AWGqxFA9oXpU+Xy/qw5z99KwDzM1V4zc5AvQd50wm9y+j8kuzS3lk+7TlOgJm5O/BbNXpuGSXiCQqtBHV0kntX1m+0Wle9sj7RJOe1b6LOMb0ZN19dZwRyZFj+yW2pti7/o7e0YvEElV1I/j3mOzwagdZrkv2Xo7x17PXyzn2GzSr9amLsO0hcYa7ses6LE7mW3rQrdc0gtE+twbUi7xnDaH6AiI5KbUoHvzkcb+LFujp8xm79CX3Sfer2nRY7ay2DzTcEkvsJK6qBSG1OHWqj9bWVHJpcoB3dsvv/iE71/Mps/LQl+2l33P5kWP3XCze9Kjt/miXmAVasMcUikd3RBGqOv918y2yOLlVmV2WrlSA3NxsF3FSbOF9m1QWHcq83iPqvqlobOG+zAxesKGqe2K2xmp5tUlvcBOl0qWAJEdkKppb49NaZj9FpPCoq6IieCU2eKdwfu33GAmUb2it4T7MDN6jr4lAM9qavSQPQDq5kYPAFQRPQAcED0AHBA9ABwQPQAcED0AHBA9ABwQPQAcED0AHBA9ABwQPQAc9KLnLwDMceRbzz8AmIDoAeCA6AHggOgB4IDoAeCA6AHggOgB4IDoAeCA6AHggOgB4IDoAeCA6AHggOgB4GB09Hy9HQ5vX+vFKTo3nD0XcIv+fLwcXj7+rFeIhn/rOTcviB6MUTvgt3HoiZ6a8X/hkn0+IzCIHoxB9NyXCb/rOW+jiR6MQfTclxm/Zi52WjLEpIiMWBtivsQRQt3Y6QJyJ0VPqiZVT7GxXp+WjLTPCEPjyHjXRg1Lq4glHVsX2WVjeQ9qRvSUL3zd03WX1dvaNltf7Xd2uoCcPfnJXjSm7mq1VqvPTF6Feuzyeb/LzCEX8Sa5Xc1sLrPH5k96OFOiJ+xbvm1hZ5fGbEvtyzDb3+kCcumAJ7rNltPC3hDqq6zPnC3D9mA9efqcrUFfHlne45kUPbKR5bbJ7qY/XKLTX0Z2CRi1o6ra5GPJ3FCrz0KYZx0iN9RmWG1daRXtkj5heQ9mVvTkmxysL8Y0t19GrwvIqZjZqbZad6ZWnxUyLMxkKzLcvT9BPy59zmpYXZ6wvAczLXryXQ57uzSE/1F73H4ZvS4gVzu8uk3qp3O4G/VZE2f6ss+TG1V56ienz52SPrK8xzMveuy70Bsrn82Od15GowvI6cO+MW1yYUpoadA1Wa3PqjhTFhW6PuOArTutIrRvg8Jz0oPiPfXlPaKJ0RP2Muxk2GO9i2rT9Qtb6MtOF5BLBzwp2uL53sW+UI6N+qyL0+QD4m3CfifSq1ALiP+HI2aS6vIe1MzoMVsOAMnU6CF7ANTNjR4AqCJ6ADggegA4IHoAOCB6ADggegA4IHoAOCB6ADggegA4IHoAOCB6ADjoRc9fAJijFz0AMAnRA8AB0QPAAdEDwAHRA8AB0QPAAdEDwAHRA8AB0QPAAdEDwAHRA8AB0QPg6v7773+1Ebmg6vntNwAAAABJRU5ErkJggg==)"
      ]
    },
    {
      "cell_type": "code",
      "metadata": {
        "id": "jubQ68-6Fdby"
      },
      "source": [
        ""
      ],
      "execution_count": null,
      "outputs": []
    }
  ]
}